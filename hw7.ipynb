{
 "metadata": {
  "name": "",
  "signature": "sha256:1968713c4f1ecedd9a1c2cce69cfc6ba1c411192dd517c94570809f35fce7396"
 },
 "nbformat": 3,
 "nbformat_minor": 0,
 "worksheets": [
  {
   "cells": [
    {
     "cell_type": "code",
     "collapsed": false,
     "input": [
      "import pandas as pd\n",
      "import numpy as np\n",
      "import numpy.linalg as la\n",
      "\n",
      "def transform(x1,x2, k):\n",
      "    arr = [pd.Series(np.ones(x1.shape[0])), x1, x2, x1 **2, x2 **2, x1 * x2, abs(x1-x2), abs(x1+x2)]\n",
      "    return pd.concat(arr,axis=1).iloc[:,0:k+2]\n",
      "\n",
      "def error(tx, y, w):\n",
      "    return abs(np.sign(np.sign(w.dot(tx.T)) - y)).mean()\n",
      "\n",
      "def evaluate_weights(t_in, y_in, t_out, y_out, w):\n",
      "    e_in = error(t_in, y_in, w)\n",
      "    e_out = error(t_out, y_out, w)\n",
      "    print(\"ein {} eout {}\".format(e_in, e_out))\n",
      "    return (e_in, e_out)\n",
      "\n",
      "def w_reg(x,y,k):\n",
      "    return la.inv(x.T.dot(x) + 10 ** k * np.identity(8)).dot(x.T).dot(y)\n",
      "\n",
      "def w_lin(x,y):\n",
      "    return la.inv(x.T.dot(x)).dot(x.T).dot(y)\n",
      "    \n",
      "    \n",
      "in_data = pd.read_csv('in.dta.csv', delim_whitespace=True)\n",
      "out_data = pd.read_csv('out.dta.csv', delim_whitespace=True)\n",
      "y_in = in_data['y']\n",
      "y_out = out_data['y']\n",
      "\n",
      "t_in = transform(in_data['x1'],in_data['x2'], 2)\n",
      "#print(tx.iloc[:,0:8])\n",
      "for i in range(3,8):\n",
      "    #run reg\n",
      "    w = w_lin(t_in)\n",
      "    #find validation error\n",
      "    print(i)\n",
      "w = la.inv(tx.T.dot(tx)).dot(tx.T).dot(y_in)\n",
      "t_out = transform(out_data['x1'],out_data['x2'])\n",
      "evaluate_weights(tx, y_in, t_out, y_out, w)\n",
      "#2 answer for prob 2 is a\n"
     ],
     "language": "python",
     "metadata": {},
     "outputs": [
      {
       "output_type": "stream",
       "stream": "stdout",
       "text": [
        "3\n",
        "4\n",
        "5\n",
        "6\n",
        "7\n"
       ]
      },
      {
       "ename": "TypeError",
       "evalue": "transform() takes exactly 3 arguments (2 given)",
       "output_type": "pyerr",
       "traceback": [
        "\u001b[0;31m---------------------------------------------------------------------------\u001b[0m\n\u001b[0;31mTypeError\u001b[0m                                 Traceback (most recent call last)",
        "\u001b[0;32m<ipython-input-14-31e2e2b84408>\u001b[0m in \u001b[0;36m<module>\u001b[0;34m()\u001b[0m\n\u001b[1;32m     29\u001b[0m     \u001b[0;32mprint\u001b[0m\u001b[0;34m(\u001b[0m\u001b[0mi\u001b[0m\u001b[0;34m)\u001b[0m\u001b[0;34m\u001b[0m\u001b[0m\n\u001b[1;32m     30\u001b[0m \u001b[0mw\u001b[0m \u001b[0;34m=\u001b[0m \u001b[0mla\u001b[0m\u001b[0;34m.\u001b[0m\u001b[0minv\u001b[0m\u001b[0;34m(\u001b[0m\u001b[0mtx\u001b[0m\u001b[0;34m.\u001b[0m\u001b[0mT\u001b[0m\u001b[0;34m.\u001b[0m\u001b[0mdot\u001b[0m\u001b[0;34m(\u001b[0m\u001b[0mtx\u001b[0m\u001b[0;34m)\u001b[0m\u001b[0;34m)\u001b[0m\u001b[0;34m.\u001b[0m\u001b[0mdot\u001b[0m\u001b[0;34m(\u001b[0m\u001b[0mtx\u001b[0m\u001b[0;34m.\u001b[0m\u001b[0mT\u001b[0m\u001b[0;34m)\u001b[0m\u001b[0;34m.\u001b[0m\u001b[0mdot\u001b[0m\u001b[0;34m(\u001b[0m\u001b[0my_in\u001b[0m\u001b[0;34m)\u001b[0m\u001b[0;34m\u001b[0m\u001b[0m\n\u001b[0;32m---> 31\u001b[0;31m \u001b[0mt_out\u001b[0m \u001b[0;34m=\u001b[0m \u001b[0mtransform\u001b[0m\u001b[0;34m(\u001b[0m\u001b[0mout_data\u001b[0m\u001b[0;34m[\u001b[0m\u001b[0;34m'x1'\u001b[0m\u001b[0;34m]\u001b[0m\u001b[0;34m,\u001b[0m\u001b[0mout_data\u001b[0m\u001b[0;34m[\u001b[0m\u001b[0;34m'x2'\u001b[0m\u001b[0;34m]\u001b[0m\u001b[0;34m)\u001b[0m\u001b[0;34m\u001b[0m\u001b[0m\n\u001b[0m\u001b[1;32m     32\u001b[0m \u001b[0mevaluate_weights\u001b[0m\u001b[0;34m(\u001b[0m\u001b[0mtx\u001b[0m\u001b[0;34m,\u001b[0m \u001b[0my_in\u001b[0m\u001b[0;34m,\u001b[0m \u001b[0mt_out\u001b[0m\u001b[0;34m,\u001b[0m \u001b[0my_out\u001b[0m\u001b[0;34m,\u001b[0m \u001b[0mw\u001b[0m\u001b[0;34m)\u001b[0m\u001b[0;34m\u001b[0m\u001b[0m\n\u001b[1;32m     33\u001b[0m \u001b[0;31m#2 answer for prob 2 is a\u001b[0m\u001b[0;34m\u001b[0m\u001b[0;34m\u001b[0m\u001b[0m\n",
        "\u001b[0;31mTypeError\u001b[0m: transform() takes exactly 3 arguments (2 given)"
       ]
      }
     ],
     "prompt_number": 14
    },
    {
     "cell_type": "code",
     "collapsed": false,
     "input": [],
     "language": "python",
     "metadata": {},
     "outputs": []
    },
    {
     "cell_type": "code",
     "collapsed": false,
     "input": [],
     "language": "python",
     "metadata": {},
     "outputs": []
    },
    {
     "cell_type": "code",
     "collapsed": false,
     "input": [],
     "language": "python",
     "metadata": {},
     "outputs": []
    },
    {
     "cell_type": "code",
     "collapsed": false,
     "input": [
      "k = -3\n",
      "w = w_reg(tx, y_in, -3)\n",
      "evaluate_weights(tx, y_in, t_out, y_out, w)\n",
      "#3 ans is d\n"
     ],
     "language": "python",
     "metadata": {},
     "outputs": [
      {
       "output_type": "stream",
       "stream": "stdout",
       "text": [
        "ein 0.0285714285714 eout 0.08\n"
       ]
      },
      {
       "metadata": {},
       "output_type": "pyout",
       "prompt_number": 130,
       "text": [
        "(0.028571428571428571, 0.080000000000000002)"
       ]
      }
     ],
     "prompt_number": 130
    },
    {
     "cell_type": "code",
     "collapsed": false,
     "input": [
      "k = 3\n",
      "w = w_reg(tx, y_in, k)\n",
      "evaluate_weights(tx, y_in, t_out, y_out, w)\n",
      "#4 ans is e"
     ],
     "language": "python",
     "metadata": {},
     "outputs": [
      {
       "output_type": "stream",
       "stream": "stdout",
       "text": [
        "ein 0.371428571429 eout 0.436\n"
       ]
      },
      {
       "metadata": {},
       "output_type": "pyout",
       "prompt_number": 131,
       "text": [
        "(0.37142857142857144, 0.436)"
       ]
      }
     ],
     "prompt_number": 131
    },
    {
     "cell_type": "code",
     "collapsed": false,
     "input": [
      "ks = [2, 1, 0, -1, -2]\n",
      "ws = [w_reg(tx, y_in, k) for k in ks]\n",
      "[evaluate_weights(tx,y_in,t_out,y_out,w) for w in ws]\n",
      "#5 ans is -1, d"
     ],
     "language": "python",
     "metadata": {},
     "outputs": [
      {
       "output_type": "stream",
       "stream": "stdout",
       "text": [
        "ein 0.2 eout 0.228\n",
        "ein 0.0571428571429 eout 0.124\n",
        "ein 0.0 eout 0.092\n",
        "ein 0.0285714285714 eout 0.056\n",
        "ein 0.0285714285714 eout 0.084\n"
       ]
      },
      {
       "metadata": {},
       "output_type": "pyout",
       "prompt_number": 129,
       "text": [
        "[(0.20000000000000001, 0.22800000000000001),\n",
        " (0.057142857142857141, 0.124),\n",
        " (0.0, 0.091999999999999998),\n",
        " (0.028571428571428571, 0.056000000000000001),\n",
        " (0.028571428571428571, 0.084000000000000005)]"
       ]
      }
     ],
     "prompt_number": 129
    },
    {
     "cell_type": "code",
     "collapsed": false,
     "input": [
      "ks = [3, 2, 1, 0, -1, -2, -3]\n",
      "ws = [w_reg(tx, y_in, k) for k in ks]\n",
      "[evaluate_weights(tx,y_in,t_out,y_out,w) for w in ws]\n",
      "#6 ans is .06, b"
     ],
     "language": "python",
     "metadata": {},
     "outputs": [
      {
       "output_type": "stream",
       "stream": "stdout",
       "text": [
        "ein 0.371428571429 eout 0.436\n",
        "ein 0.2 eout 0.228\n",
        "ein 0.0571428571429 eout 0.124\n",
        "ein 0.0 eout 0.092\n",
        "ein 0.0285714285714 eout 0.056\n",
        "ein 0.0285714285714 eout 0.084\n",
        "ein 0.0285714285714 eout 0.08\n"
       ]
      },
      {
       "metadata": {},
       "output_type": "pyout",
       "prompt_number": 134,
       "text": [
        "[(0.37142857142857144, 0.436),\n",
        " (0.20000000000000001, 0.22800000000000001),\n",
        " (0.057142857142857141, 0.124),\n",
        " (0.0, 0.091999999999999998),\n",
        " (0.028571428571428571, 0.056000000000000001),\n",
        " (0.028571428571428571, 0.084000000000000005),\n",
        " (0.028571428571428571, 0.080000000000000002)]"
       ]
      }
     ],
     "prompt_number": 134
    },
    {
     "cell_type": "code",
     "collapsed": false,
     "input": [
      "#ans 7 is c"
     ],
     "language": "python",
     "metadata": {},
     "outputs": [],
     "prompt_number": 135
    },
    {
     "cell_type": "code",
     "collapsed": false,
     "input": [],
     "language": "python",
     "metadata": {},
     "outputs": []
    },
    {
     "cell_type": "code",
     "collapsed": false,
     "input": [],
     "language": "python",
     "metadata": {},
     "outputs": [],
     "prompt_number": 21
    },
    {
     "cell_type": "code",
     "collapsed": false,
     "input": [],
     "language": "python",
     "metadata": {},
     "outputs": []
    }
   ],
   "metadata": {}
  }
 ]
}