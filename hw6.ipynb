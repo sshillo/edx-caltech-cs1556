{
 "metadata": {
  "name": "",
  "signature": "sha256:8becad66c22deeb99bce6eabf0922361c2473b1de3769b019caf460e26b1aff7"
 },
 "nbformat": 3,
 "nbformat_minor": 0,
 "worksheets": [
  {
   "cells": [
    {
     "cell_type": "code",
     "collapsed": false,
     "input": [
      "import pandas as pd\n",
      "import numpy as np\n",
      "import numpy.linalg as la\n",
      "\n",
      "def transform(x1,x2):\n",
      "    arr = [pd.Series(np.ones(x1.shape[0])), x1, x2, x1 **2, x2 **2, x1 * x2, abs(x1-x2), abs(x1+x2)]\n",
      "    return pd.concat(arr,axis=1)\n",
      "\n",
      "def error(tx, y, w):\n",
      "    return abs(np.sign(np.sign(w.dot(tx.T)) - y)).mean()\n",
      "\n",
      "def evaluate_weights(t_in, y_in, t_out, y_out, w):\n",
      "    e_in = error(t_in, y_in, w)\n",
      "    e_out = error(t_out, y_out, w)\n",
      "    print(\"ein {} eout {}\".format(e_in, e_out))\n",
      "    return (e_in, e_out)\n",
      "\n",
      "def w_reg(x,y,k):\n",
      "    return la.inv(x.T.dot(x) + 10 ** k * np.identity(8)).dot(x.T).dot(y)\n",
      "    \n",
      "in_data = pd.read_csv('in.dta.csv', delim_whitespace=True)\n",
      "out_data = pd.read_csv('out.dta.csv', delim_whitespace=True)\n",
      "y_in = in_data['y']\n",
      "y_out = out_data['y']\n",
      "\n",
      "tx = transform(in_data['x1'],in_data['x2'])\n",
      "w = la.inv(tx.T.dot(tx)).dot(tx.T).dot(y_in)\n",
      "t_out = transform(out_data['x1'],out_data['x2'])\n",
      "evaluate_weights(tx, y_in, t_out, y_out, w)\n",
      "#2 answer for prob 2 is a\n"
     ],
     "language": "python",
     "metadata": {},
     "outputs": [
      {
       "output_type": "stream",
       "stream": "stdout",
       "text": [
        "ein 0.0285714285714 eout 0.084\n"
       ]
      },
      {
       "metadata": {},
       "output_type": "pyout",
       "prompt_number": 117,
       "text": [
        "(0.028571428571428571, 0.084000000000000005)"
       ]
      }
     ],
     "prompt_number": 117
    },
    {
     "cell_type": "code",
     "collapsed": false,
     "input": [
      "k = -3\n",
      "w = w_reg(tx, y_in, -3)\n",
      "evaluate_weights(tx, y_in, t_out, y_out, w)\n",
      "#3 ans is d\n"
     ],
     "language": "python",
     "metadata": {},
     "outputs": [
      {
       "output_type": "stream",
       "stream": "stdout",
       "text": [
        "ein 0.0285714285714 eout 0.08\n"
       ]
      },
      {
       "metadata": {},
       "output_type": "pyout",
       "prompt_number": 130,
       "text": [
        "(0.028571428571428571, 0.080000000000000002)"
       ]
      }
     ],
     "prompt_number": 130
    },
    {
     "cell_type": "code",
     "collapsed": false,
     "input": [
      "k = 3\n",
      "w = w_reg(tx, y_in, k)\n",
      "evaluate_weights(tx, y_in, t_out, y_out, w)\n",
      "#4 ans is e"
     ],
     "language": "python",
     "metadata": {},
     "outputs": [
      {
       "output_type": "stream",
       "stream": "stdout",
       "text": [
        "ein 0.371428571429 eout 0.436\n"
       ]
      },
      {
       "metadata": {},
       "output_type": "pyout",
       "prompt_number": 131,
       "text": [
        "(0.37142857142857144, 0.436)"
       ]
      }
     ],
     "prompt_number": 131
    },
    {
     "cell_type": "code",
     "collapsed": false,
     "input": [
      "ks = [2, 1, 0, -1, -2]\n",
      "ws = [w_reg(tx, y_in, k) for k in ks]\n",
      "[evaluate_weights(tx,y_in,t_out,y_out,w) for w in ws]\n",
      "#5 ans is -1, d"
     ],
     "language": "python",
     "metadata": {},
     "outputs": [
      {
       "output_type": "stream",
       "stream": "stdout",
       "text": [
        "ein 0.2 eout 0.228\n",
        "ein 0.0571428571429 eout 0.124\n",
        "ein 0.0 eout 0.092\n",
        "ein 0.0285714285714 eout 0.056\n",
        "ein 0.0285714285714 eout 0.084\n"
       ]
      },
      {
       "metadata": {},
       "output_type": "pyout",
       "prompt_number": 129,
       "text": [
        "[(0.20000000000000001, 0.22800000000000001),\n",
        " (0.057142857142857141, 0.124),\n",
        " (0.0, 0.091999999999999998),\n",
        " (0.028571428571428571, 0.056000000000000001),\n",
        " (0.028571428571428571, 0.084000000000000005)]"
       ]
      }
     ],
     "prompt_number": 129
    },
    {
     "cell_type": "code",
     "collapsed": false,
     "input": [
      "ks = [3, 2, 1, 0, -1, -2, -3]\n",
      "ws = [w_reg(tx, y_in, k) for k in ks]\n",
      "[evaluate_weights(tx,y_in,t_out,y_out,w) for w in ws]\n",
      "#6 ans is .06, b"
     ],
     "language": "python",
     "metadata": {},
     "outputs": [
      {
       "output_type": "stream",
       "stream": "stdout",
       "text": [
        "ein 0.371428571429 eout 0.436\n",
        "ein 0.2 eout 0.228\n",
        "ein 0.0571428571429 eout 0.124\n",
        "ein 0.0 eout 0.092\n",
        "ein 0.0285714285714 eout 0.056\n",
        "ein 0.0285714285714 eout 0.084\n",
        "ein 0.0285714285714 eout 0.08\n"
       ]
      },
      {
       "metadata": {},
       "output_type": "pyout",
       "prompt_number": 134,
       "text": [
        "[(0.37142857142857144, 0.436),\n",
        " (0.20000000000000001, 0.22800000000000001),\n",
        " (0.057142857142857141, 0.124),\n",
        " (0.0, 0.091999999999999998),\n",
        " (0.028571428571428571, 0.056000000000000001),\n",
        " (0.028571428571428571, 0.084000000000000005),\n",
        " (0.028571428571428571, 0.080000000000000002)]"
       ]
      }
     ],
     "prompt_number": 134
    },
    {
     "cell_type": "code",
     "collapsed": false,
     "input": [],
     "language": "python",
     "metadata": {},
     "outputs": []
    },
    {
     "cell_type": "code",
     "collapsed": false,
     "input": [],
     "language": "python",
     "metadata": {},
     "outputs": []
    },
    {
     "cell_type": "code",
     "collapsed": false,
     "input": [],
     "language": "python",
     "metadata": {},
     "outputs": [],
     "prompt_number": 21
    },
    {
     "cell_type": "code",
     "collapsed": false,
     "input": [],
     "language": "python",
     "metadata": {},
     "outputs": []
    }
   ],
   "metadata": {}
  }
 ]
}